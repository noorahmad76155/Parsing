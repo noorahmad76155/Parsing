{
  "nbformat": 4,
  "nbformat_minor": 0,
  "metadata": {
    "colab": {
      "name": "Parsing.ipynb",
      "provenance": []
    },
    "kernelspec": {
      "name": "python3",
      "display_name": "Python 3"
    },
    "language_info": {
      "name": "python"
    }
  },
  "cells": [
    {
      "cell_type": "code",
      "execution_count": null,
      "metadata": {
        "colab": {
          "base_uri": "https://localhost:8080/"
        },
        "id": "AILt8xILfjPB",
        "outputId": "a31f37d9-aea7-4bd3-e740-45580ac397de"
      },
      "outputs": [
        {
          "output_type": "stream",
          "name": "stdout",
          "text": [
            "Requirement already satisfied: diaparser in /usr/local/lib/python3.7/dist-packages (1.1.2)\n",
            "Requirement already satisfied: numpy==1.19.4 in /usr/local/lib/python3.7/dist-packages (from diaparser) (1.19.4)\n",
            "Requirement already satisfied: nltk in /usr/local/lib/python3.7/dist-packages (from diaparser) (3.2.5)\n",
            "Requirement already satisfied: stanza in /usr/local/lib/python3.7/dist-packages (from diaparser) (1.3.0)\n",
            "Requirement already satisfied: torch>=1.6 in /usr/local/lib/python3.7/dist-packages (from diaparser) (1.10.0+cu111)\n",
            "Requirement already satisfied: transformers in /usr/local/lib/python3.7/dist-packages (from diaparser) (4.15.0)\n",
            "Requirement already satisfied: typing-extensions in /usr/local/lib/python3.7/dist-packages (from torch>=1.6->diaparser) (3.10.0.2)\n",
            "Requirement already satisfied: six in /usr/local/lib/python3.7/dist-packages (from nltk->diaparser) (1.15.0)\n",
            "Requirement already satisfied: emoji in /usr/local/lib/python3.7/dist-packages (from stanza->diaparser) (1.6.1)\n",
            "Requirement already satisfied: protobuf in /usr/local/lib/python3.7/dist-packages (from stanza->diaparser) (3.17.3)\n",
            "Requirement already satisfied: tqdm in /usr/local/lib/python3.7/dist-packages (from stanza->diaparser) (4.62.3)\n",
            "Requirement already satisfied: requests in /usr/local/lib/python3.7/dist-packages (from stanza->diaparser) (2.23.0)\n",
            "Requirement already satisfied: chardet<4,>=3.0.2 in /usr/local/lib/python3.7/dist-packages (from requests->stanza->diaparser) (3.0.4)\n",
            "Requirement already satisfied: certifi>=2017.4.17 in /usr/local/lib/python3.7/dist-packages (from requests->stanza->diaparser) (2021.10.8)\n",
            "Requirement already satisfied: urllib3!=1.25.0,!=1.25.1,<1.26,>=1.21.1 in /usr/local/lib/python3.7/dist-packages (from requests->stanza->diaparser) (1.24.3)\n",
            "Requirement already satisfied: idna<3,>=2.5 in /usr/local/lib/python3.7/dist-packages (from requests->stanza->diaparser) (2.10)\n",
            "Requirement already satisfied: packaging>=20.0 in /usr/local/lib/python3.7/dist-packages (from transformers->diaparser) (21.3)\n",
            "Requirement already satisfied: sacremoses in /usr/local/lib/python3.7/dist-packages (from transformers->diaparser) (0.0.46)\n",
            "Requirement already satisfied: pyyaml>=5.1 in /usr/local/lib/python3.7/dist-packages (from transformers->diaparser) (6.0)\n",
            "Requirement already satisfied: huggingface-hub<1.0,>=0.1.0 in /usr/local/lib/python3.7/dist-packages (from transformers->diaparser) (0.2.1)\n",
            "Requirement already satisfied: tokenizers<0.11,>=0.10.1 in /usr/local/lib/python3.7/dist-packages (from transformers->diaparser) (0.10.3)\n",
            "Requirement already satisfied: regex!=2019.12.17 in /usr/local/lib/python3.7/dist-packages (from transformers->diaparser) (2019.12.20)\n",
            "Requirement already satisfied: filelock in /usr/local/lib/python3.7/dist-packages (from transformers->diaparser) (3.4.0)\n",
            "Requirement already satisfied: importlib-metadata in /usr/local/lib/python3.7/dist-packages (from transformers->diaparser) (4.8.2)\n",
            "Requirement already satisfied: pyparsing!=3.0.5,>=2.0.2 in /usr/local/lib/python3.7/dist-packages (from packaging>=20.0->transformers->diaparser) (3.0.6)\n",
            "Requirement already satisfied: zipp>=0.5 in /usr/local/lib/python3.7/dist-packages (from importlib-metadata->transformers->diaparser) (3.6.0)\n",
            "Requirement already satisfied: joblib in /usr/local/lib/python3.7/dist-packages (from sacremoses->transformers->diaparser) (1.1.0)\n",
            "Requirement already satisfied: click in /usr/local/lib/python3.7/dist-packages (from sacremoses->transformers->diaparser) (7.1.2)\n"
          ]
        }
      ],
      "source": [
        "pip install -U diaparser"
      ]
    },
    {
      "cell_type": "code",
      "source": [
        "pip install -U git+https://github.com/Unipisa/diaparser && cd diaparser"
      ],
      "metadata": {
        "colab": {
          "base_uri": "https://localhost:8080/"
        },
        "id": "W4CxWkuKgiE-",
        "outputId": "8ff79044-77bf-409d-d575-46629b95c7ac"
      },
      "execution_count": null,
      "outputs": [
        {
          "output_type": "stream",
          "name": "stdout",
          "text": [
            "Collecting git+https://github.com/Unipisa/diaparser\n",
            "  Cloning https://github.com/Unipisa/diaparser to /tmp/pip-req-build-2vd8o7p5\n",
            "  Running command git clone -q https://github.com/Unipisa/diaparser /tmp/pip-req-build-2vd8o7p5\n",
            "Requirement already satisfied: torch>=1.6 in /usr/local/lib/python3.7/dist-packages (from diaparser==1.1.2) (1.10.0+cu111)\n",
            "Requirement already satisfied: transformers in /usr/local/lib/python3.7/dist-packages (from diaparser==1.1.2) (4.15.0)\n",
            "Requirement already satisfied: nltk in /usr/local/lib/python3.7/dist-packages (from diaparser==1.1.2) (3.2.5)\n",
            "Requirement already satisfied: stanza in /usr/local/lib/python3.7/dist-packages (from diaparser==1.1.2) (1.3.0)\n",
            "Requirement already satisfied: numpy==1.19.4 in /usr/local/lib/python3.7/dist-packages (from diaparser==1.1.2) (1.19.4)\n",
            "Requirement already satisfied: typing-extensions in /usr/local/lib/python3.7/dist-packages (from torch>=1.6->diaparser==1.1.2) (3.10.0.2)\n",
            "Requirement already satisfied: six in /usr/local/lib/python3.7/dist-packages (from nltk->diaparser==1.1.2) (1.15.0)\n",
            "Requirement already satisfied: protobuf in /usr/local/lib/python3.7/dist-packages (from stanza->diaparser==1.1.2) (3.17.3)\n",
            "Requirement already satisfied: requests in /usr/local/lib/python3.7/dist-packages (from stanza->diaparser==1.1.2) (2.23.0)\n",
            "Requirement already satisfied: tqdm in /usr/local/lib/python3.7/dist-packages (from stanza->diaparser==1.1.2) (4.62.3)\n",
            "Requirement already satisfied: emoji in /usr/local/lib/python3.7/dist-packages (from stanza->diaparser==1.1.2) (1.6.1)\n",
            "Requirement already satisfied: urllib3!=1.25.0,!=1.25.1,<1.26,>=1.21.1 in /usr/local/lib/python3.7/dist-packages (from requests->stanza->diaparser==1.1.2) (1.24.3)\n",
            "Requirement already satisfied: chardet<4,>=3.0.2 in /usr/local/lib/python3.7/dist-packages (from requests->stanza->diaparser==1.1.2) (3.0.4)\n",
            "Requirement already satisfied: idna<3,>=2.5 in /usr/local/lib/python3.7/dist-packages (from requests->stanza->diaparser==1.1.2) (2.10)\n",
            "Requirement already satisfied: certifi>=2017.4.17 in /usr/local/lib/python3.7/dist-packages (from requests->stanza->diaparser==1.1.2) (2021.10.8)\n",
            "Requirement already satisfied: regex!=2019.12.17 in /usr/local/lib/python3.7/dist-packages (from transformers->diaparser==1.1.2) (2019.12.20)\n",
            "Requirement already satisfied: pyyaml>=5.1 in /usr/local/lib/python3.7/dist-packages (from transformers->diaparser==1.1.2) (6.0)\n",
            "Requirement already satisfied: sacremoses in /usr/local/lib/python3.7/dist-packages (from transformers->diaparser==1.1.2) (0.0.46)\n",
            "Requirement already satisfied: tokenizers<0.11,>=0.10.1 in /usr/local/lib/python3.7/dist-packages (from transformers->diaparser==1.1.2) (0.10.3)\n",
            "Requirement already satisfied: packaging>=20.0 in /usr/local/lib/python3.7/dist-packages (from transformers->diaparser==1.1.2) (21.3)\n",
            "Requirement already satisfied: importlib-metadata in /usr/local/lib/python3.7/dist-packages (from transformers->diaparser==1.1.2) (4.8.2)\n",
            "Requirement already satisfied: huggingface-hub<1.0,>=0.1.0 in /usr/local/lib/python3.7/dist-packages (from transformers->diaparser==1.1.2) (0.2.1)\n",
            "Requirement already satisfied: filelock in /usr/local/lib/python3.7/dist-packages (from transformers->diaparser==1.1.2) (3.4.0)\n",
            "Requirement already satisfied: pyparsing!=3.0.5,>=2.0.2 in /usr/local/lib/python3.7/dist-packages (from packaging>=20.0->transformers->diaparser==1.1.2) (3.0.6)\n",
            "Requirement already satisfied: zipp>=0.5 in /usr/local/lib/python3.7/dist-packages (from importlib-metadata->transformers->diaparser==1.1.2) (3.6.0)\n",
            "Requirement already satisfied: click in /usr/local/lib/python3.7/dist-packages (from sacremoses->transformers->diaparser==1.1.2) (7.1.2)\n",
            "Requirement already satisfied: joblib in /usr/local/lib/python3.7/dist-packages (from sacremoses->transformers->diaparser==1.1.2) (1.1.0)\n",
            "/bin/bash: line 0: cd: diaparser: No such file or directory\n"
          ]
        }
      ]
    },
    {
      "cell_type": "code",
      "source": [
        "from diaparser.parsers import Parser\n"
      ],
      "metadata": {
        "id": "WZVrft6ggtGH"
      },
      "execution_count": null,
      "outputs": []
    },
    {
      "cell_type": "code",
      "source": [
        "parser = Parser.load('en_ewt-electra')"
      ],
      "metadata": {
        "colab": {
          "base_uri": "https://localhost:8080/"
        },
        "id": "0QjbYYXmheuJ",
        "outputId": "0653ba11-2ad3-4d7c-fe0a-8266e60bcd8b"
      },
      "execution_count": null,
      "outputs": [
        {
          "output_type": "stream",
          "name": "stderr",
          "text": [
            "Some weights of the model checkpoint at google/electra-base-discriminator were not used when initializing ElectraModel: ['discriminator_predictions.dense.weight', 'discriminator_predictions.dense.bias', 'discriminator_predictions.dense_prediction.weight', 'discriminator_predictions.dense_prediction.bias']\n",
            "- This IS expected if you are initializing ElectraModel from the checkpoint of a model trained on another task or with another architecture (e.g. initializing a BertForSequenceClassification model from a BertForPreTraining model).\n",
            "- This IS NOT expected if you are initializing ElectraModel from the checkpoint of a model that you expect to be exactly identical (initializing a BertForSequenceClassification model from a BertForSequenceClassification model).\n",
            "Using bos_token, but it is not set yet.\n",
            "Using eos_token, but it is not set yet.\n"
          ]
        }
      ]
    },
    {
      "cell_type": "code",
      "source": [
        " dataset = parser.predict([['Noor', 'enjoys', 'playing', 'tennis', '.']], prob=True)"
      ],
      "metadata": {
        "id": "kALvkLDUhwhO"
      },
      "execution_count": null,
      "outputs": []
    },
    {
      "cell_type": "code",
      "source": [
        "print(dataset.sentences[0])"
      ],
      "metadata": {
        "colab": {
          "base_uri": "https://localhost:8080/"
        },
        "id": "yE_PLn2Sh4OI",
        "outputId": "c6975228-bab5-4f22-d809-5472f9406d5a"
      },
      "execution_count": null,
      "outputs": [
        {
          "output_type": "stream",
          "name": "stdout",
          "text": [
            "1\tdania\t_\t_\t_\t_\t2\tnsubj\t_\t_\n",
            "2\tenjoys\t_\t_\t_\t_\t0\troot\t_\t_\n",
            "3\tplaying\t_\t_\t_\t_\t2\txcomp\t_\t_\n",
            "4\ttennis\t_\t_\t_\t_\t3\tobj\t_\t_\n",
            "5\t.\t_\t_\t_\t_\t2\tpunct\t_\t_\n",
            "\n"
          ]
        }
      ]
    },
    {
      "cell_type": "code",
      "source": [
        " dataset2 = parser.predict([['tree', 'is', 'big']], prob=True)"
      ],
      "metadata": {
        "id": "ImTa_OF64851"
      },
      "execution_count": null,
      "outputs": []
    },
    {
      "cell_type": "code",
      "source": [
        "print(dataset2.sentences[0])"
      ],
      "metadata": {
        "colab": {
          "base_uri": "https://localhost:8080/"
        },
        "outputId": "443787d7-4498-4e6f-8c6f-1e80971417f8",
        "id": "mKvz7u1f5WR7"
      },
      "execution_count": null,
      "outputs": [
        {
          "output_type": "stream",
          "name": "stdout",
          "text": [
            "1\ttree\t_\t_\t_\t_\t3\tnsubj\t_\t_\n",
            "2\tis\t_\t_\t_\t_\t3\tcop\t_\t_\n",
            "3\tbig\t_\t_\t_\t_\t0\troot\t_\t_\n",
            "\n"
          ]
        }
      ]
    },
    {
      "cell_type": "markdown",
      "source": [
        "Examples of our chapter:"
      ],
      "metadata": {
        "id": "naN6dYQ4-jg-"
      }
    },
    {
      "cell_type": "code",
      "source": [
        "exa1=parser.predict([['Discussion', 'of', 'the', 'outstanding', 'issues', 'was', 'completed'\n",
        "]], prob=True)"
      ],
      "metadata": {
        "id": "GglfBTDD6xmm"
      },
      "execution_count": null,
      "outputs": []
    },
    {
      "cell_type": "code",
      "source": [
        "print(exa1.sentences[0])"
      ],
      "metadata": {
        "colab": {
          "base_uri": "https://localhost:8080/"
        },
        "outputId": "af0b9852-5944-4580-b6c5-e4d25ded5ef4",
        "id": "kzWhMjII7THw"
      },
      "execution_count": null,
      "outputs": [
        {
          "output_type": "stream",
          "name": "stdout",
          "text": [
            "1\tDiscussion\t_\t_\t_\t_\t7\tnsubj:pass\t_\t_\n",
            "2\tof\t_\t_\t_\t_\t5\tcase\t_\t_\n",
            "3\tthe\t_\t_\t_\t_\t5\tdet\t_\t_\n",
            "4\toutstanding\t_\t_\t_\t_\t5\tamod\t_\t_\n",
            "5\tissues\t_\t_\t_\t_\t1\tnmod\t_\t_\n",
            "6\twas\t_\t_\t_\t_\t7\taux:pass\t_\t_\n",
            "7\tcompleted\t_\t_\t_\t_\t0\troot\t_\t_\n",
            "\n"
          ]
        }
      ]
    },
    {
      "cell_type": "code",
      "source": [
        "exa2=parser.predict([['Who', 'did', 'Bill', 'buy', 'the', 'coffee' ,'from', 'yesterday', '?'\n",
        "]], prob=True)"
      ],
      "metadata": {
        "id": "Vv0kitB1-xkh"
      },
      "execution_count": null,
      "outputs": []
    },
    {
      "cell_type": "code",
      "source": [
        "print(exa2.sentences[0])"
      ],
      "metadata": {
        "colab": {
          "base_uri": "https://localhost:8080/"
        },
        "id": "JLpvwq2l_P9r",
        "outputId": "00a8af96-2bbb-4a25-e9f0-22131d4087d4"
      },
      "execution_count": null,
      "outputs": [
        {
          "output_type": "stream",
          "name": "stdout",
          "text": [
            "1\tWho\t_\t_\t_\t_\t4\tobj\t_\t_\n",
            "2\tdid\t_\t_\t_\t_\t4\taux\t_\t_\n",
            "3\tBill\t_\t_\t_\t_\t4\tnsubj\t_\t_\n",
            "4\tbuy\t_\t_\t_\t_\t0\troot\t_\t_\n",
            "5\tthe\t_\t_\t_\t_\t6\tdet\t_\t_\n",
            "6\tcoffee\t_\t_\t_\t_\t4\tobj\t_\t_\n",
            "7\tfrom\t_\t_\t_\t_\t8\tcase\t_\t_\n",
            "8\tyesterday\t_\t_\t_\t_\t4\tobl\t_\t_\n",
            "9\t?\t_\t_\t_\t_\t4\tpunct\t_\t_\n",
            "\n"
          ]
        }
      ]
    },
    {
      "cell_type": "code",
      "source": [
        "exa3=parser.predict([['I', 'ate', 'fish'\n",
        "]], prob=True)"
      ],
      "metadata": {
        "id": "rjtfOB27_qlw"
      },
      "execution_count": null,
      "outputs": []
    },
    {
      "cell_type": "code",
      "source": [
        "print(exa3.sentences[0])"
      ],
      "metadata": {
        "colab": {
          "base_uri": "https://localhost:8080/"
        },
        "outputId": "1b442af8-756d-4455-ad2f-58c4803331cf",
        "id": "v-QHVWTUABiJ"
      },
      "execution_count": null,
      "outputs": [
        {
          "output_type": "stream",
          "name": "stdout",
          "text": [
            "1\tI\t_\t_\t_\t_\t2\tnsubj\t_\t_\n",
            "2\tate\t_\t_\t_\t_\t0\troot\t_\t_\n",
            "3\tfish\t_\t_\t_\t_\t2\tobj\t_\t_\n",
            "\n"
          ]
        }
      ]
    },
    {
      "cell_type": "code",
      "source": [
        "dataset = parser.predict('She enjoys playing tennis.', text='en')"
      ],
      "metadata": {
        "id": "qvA9YndRh_YL"
      },
      "execution_count": null,
      "outputs": []
    },
    {
      "cell_type": "code",
      "source": [
        "import spacy\n",
        "from spacy import displacy"
      ],
      "metadata": {
        "id": "RNqIpc2UiyY4"
      },
      "execution_count": null,
      "outputs": []
    },
    {
      "cell_type": "code",
      "source": [
        "sent = dataset.sentences[0]\n",
        "displacy.render(sent.to_displacy(), style='dep', manual=True, options={'compact': True, 'distance': 120})"
      ],
      "metadata": {
        "colab": {
          "base_uri": "https://localhost:8080/",
          "height": 140
        },
        "id": "diS31JXQik9g",
        "outputId": "d3d0f488-de10-48e5-d843-fab2ece97044"
      },
      "execution_count": null,
      "outputs": [
        {
          "output_type": "execute_result",
          "data": {
            "application/vnd.google.colaboratory.intrinsic+json": {
              "type": "string"
            },
            "text/plain": [
              "'<svg xmlns=\"http://www.w3.org/2000/svg\" xmlns:xlink=\"http://www.w3.org/1999/xlink\" xml:lang=\"en\" id=\"da2e9080150b4fc9b6ceb2a31f086523-0\" class=\"displacy\" width=\"770\" height=\"317.0\" direction=\"ltr\" style=\"max-width: none; height: 317.0px; color: #000000; background: #ffffff; font-family: Arial; direction: ltr\">\\n<text class=\"displacy-token\" fill=\"currentColor\" text-anchor=\"middle\" y=\"227.0\">\\n    <tspan class=\"displacy-word\" fill=\"currentColor\" x=\"50\">ROOT</tspan>\\n    <tspan class=\"displacy-tag\" dy=\"2em\" fill=\"currentColor\" x=\"50\"></tspan>\\n</text>\\n\\n<text class=\"displacy-token\" fill=\"currentColor\" text-anchor=\"middle\" y=\"227.0\">\\n    <tspan class=\"displacy-word\" fill=\"currentColor\" x=\"170\">She</tspan>\\n    <tspan class=\"displacy-tag\" dy=\"2em\" fill=\"currentColor\" x=\"170\"></tspan>\\n</text>\\n\\n<text class=\"displacy-token\" fill=\"currentColor\" text-anchor=\"middle\" y=\"227.0\">\\n    <tspan class=\"displacy-word\" fill=\"currentColor\" x=\"290\">enjoys</tspan>\\n    <tspan class=\"displacy-tag\" dy=\"2em\" fill=\"currentColor\" x=\"290\"></tspan>\\n</text>\\n\\n<text class=\"displacy-token\" fill=\"currentColor\" text-anchor=\"middle\" y=\"227.0\">\\n    <tspan class=\"displacy-word\" fill=\"currentColor\" x=\"410\">playing</tspan>\\n    <tspan class=\"displacy-tag\" dy=\"2em\" fill=\"currentColor\" x=\"410\"></tspan>\\n</text>\\n\\n<text class=\"displacy-token\" fill=\"currentColor\" text-anchor=\"middle\" y=\"227.0\">\\n    <tspan class=\"displacy-word\" fill=\"currentColor\" x=\"530\">tennis</tspan>\\n    <tspan class=\"displacy-tag\" dy=\"2em\" fill=\"currentColor\" x=\"530\"></tspan>\\n</text>\\n\\n<text class=\"displacy-token\" fill=\"currentColor\" text-anchor=\"middle\" y=\"227.0\">\\n    <tspan class=\"displacy-word\" fill=\"currentColor\" x=\"650\">.</tspan>\\n    <tspan class=\"displacy-tag\" dy=\"2em\" fill=\"currentColor\" x=\"650\"></tspan>\\n</text>\\n\\n<g class=\"displacy-arrow\">\\n    <path class=\"displacy-arc\" id=\"arrow-da2e9080150b4fc9b6ceb2a31f086523-0-0\" stroke-width=\"2px\" d=\"M182,182.0 182,162.0 284.0,162.0 284.0,182.0\" fill=\"none\" stroke=\"currentColor\"/>\\n    <text dy=\"1.25em\" style=\"font-size: 0.8em; letter-spacing: 1px\">\\n        <textPath xlink:href=\"#arrow-da2e9080150b4fc9b6ceb2a31f086523-0-0\" class=\"displacy-label\" startOffset=\"50%\" side=\"left\" fill=\"currentColor\" text-anchor=\"middle\">nsubj</textPath>\\n    </text>\\n    <path class=\"displacy-arrowhead\" d=\"M182,184.0 L178,176.0 186,176.0\" fill=\"currentColor\"/>\\n</g>\\n\\n<g class=\"displacy-arrow\">\\n    <path class=\"displacy-arc\" id=\"arrow-da2e9080150b4fc9b6ceb2a31f086523-0-1\" stroke-width=\"2px\" d=\"M62,182.0 62,142.0 287.0,142.0 287.0,182.0\" fill=\"none\" stroke=\"currentColor\"/>\\n    <text dy=\"1.25em\" style=\"font-size: 0.8em; letter-spacing: 1px\">\\n        <textPath xlink:href=\"#arrow-da2e9080150b4fc9b6ceb2a31f086523-0-1\" class=\"displacy-label\" startOffset=\"50%\" side=\"left\" fill=\"currentColor\" text-anchor=\"middle\">root</textPath>\\n    </text>\\n    <path class=\"displacy-arrowhead\" d=\"M287.0,184.0 L291.0,176.0 283.0,176.0\" fill=\"currentColor\"/>\\n</g>\\n\\n<g class=\"displacy-arrow\">\\n    <path class=\"displacy-arc\" id=\"arrow-da2e9080150b4fc9b6ceb2a31f086523-0-2\" stroke-width=\"2px\" d=\"M302,182.0 302,162.0 404.0,162.0 404.0,182.0\" fill=\"none\" stroke=\"currentColor\"/>\\n    <text dy=\"1.25em\" style=\"font-size: 0.8em; letter-spacing: 1px\">\\n        <textPath xlink:href=\"#arrow-da2e9080150b4fc9b6ceb2a31f086523-0-2\" class=\"displacy-label\" startOffset=\"50%\" side=\"left\" fill=\"currentColor\" text-anchor=\"middle\">xcomp</textPath>\\n    </text>\\n    <path class=\"displacy-arrowhead\" d=\"M404.0,184.0 L408.0,176.0 400.0,176.0\" fill=\"currentColor\"/>\\n</g>\\n\\n<g class=\"displacy-arrow\">\\n    <path class=\"displacy-arc\" id=\"arrow-da2e9080150b4fc9b6ceb2a31f086523-0-3\" stroke-width=\"2px\" d=\"M422,182.0 422,162.0 524.0,162.0 524.0,182.0\" fill=\"none\" stroke=\"currentColor\"/>\\n    <text dy=\"1.25em\" style=\"font-size: 0.8em; letter-spacing: 1px\">\\n        <textPath xlink:href=\"#arrow-da2e9080150b4fc9b6ceb2a31f086523-0-3\" class=\"displacy-label\" startOffset=\"50%\" side=\"left\" fill=\"currentColor\" text-anchor=\"middle\">obj</textPath>\\n    </text>\\n    <path class=\"displacy-arrowhead\" d=\"M524.0,184.0 L528.0,176.0 520.0,176.0\" fill=\"currentColor\"/>\\n</g>\\n\\n<g class=\"displacy-arrow\">\\n    <path class=\"displacy-arc\" id=\"arrow-da2e9080150b4fc9b6ceb2a31f086523-0-4\" stroke-width=\"2px\" d=\"M302,182.0 302,122.0 650.0,122.0 650.0,182.0\" fill=\"none\" stroke=\"currentColor\"/>\\n    <text dy=\"1.25em\" style=\"font-size: 0.8em; letter-spacing: 1px\">\\n        <textPath xlink:href=\"#arrow-da2e9080150b4fc9b6ceb2a31f086523-0-4\" class=\"displacy-label\" startOffset=\"50%\" side=\"left\" fill=\"currentColor\" text-anchor=\"middle\">punct</textPath>\\n    </text>\\n    <path class=\"displacy-arrowhead\" d=\"M650.0,184.0 L654.0,176.0 646.0,176.0\" fill=\"currentColor\"/>\\n</g>\\n</svg>'"
            ]
          },
          "metadata": {},
          "execution_count": 72
        }
      ]
    },
    {
      "cell_type": "code",
      "source": [
        "dataset = parser.predict(['She', 'enjoys', 'playing', 'tennis', '.'], prob=True)\n"
      ],
      "metadata": {
        "id": "lfMFRcWBjPTy"
      },
      "execution_count": null,
      "outputs": []
    },
    {
      "cell_type": "code",
      "source": [
        "import torch\n",
        "print(f\"arcs:  {dataset.arcs[0]}\\n\"\n",
        "      f\"rels:  {dataset.rels[0]}\\n\"\n",
        "      f\"probs: {dataset.probs[0].gather(1,torch.tensor(dataset.arcs[0]).unsqueeze(1)).squeeze(-1)}\")"
      ],
      "metadata": {
        "colab": {
          "base_uri": "https://localhost:8080/"
        },
        "id": "0Gbi5F9kjcO-",
        "outputId": "c3b1febc-b4c7-4b2f-cb19-5d9f65547d67"
      },
      "execution_count": null,
      "outputs": [
        {
          "output_type": "stream",
          "name": "stdout",
          "text": [
            "arcs:  [2, 0, 2, 3, 2]\n",
            "rels:  ['nsubj', 'root', 'xcomp', 'obj', 'punct']\n",
            "probs: tensor([1.0000, 1.0000, 1.0000, 1.0000, 0.9999])\n"
          ]
        }
      ]
    },
    {
      "cell_type": "markdown",
      "source": [
        "Done by Noor Ahmad Abdallah"
      ],
      "metadata": {
        "id": "ufSMiD31Aye-"
      }
    },
    {
      "cell_type": "markdown",
      "source": [
        "the link of github:\n",
        "https://github.com/Unipisa/diaparser/blob/master/README.md"
      ],
      "metadata": {
        "id": "SHyH9ni1BLxq"
      }
    }
  ]
}